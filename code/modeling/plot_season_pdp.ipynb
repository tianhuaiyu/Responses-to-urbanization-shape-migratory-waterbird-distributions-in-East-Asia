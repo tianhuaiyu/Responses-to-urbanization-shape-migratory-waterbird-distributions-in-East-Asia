{
 "cells": [
  {
   "cell_type": "code",
   "execution_count": 1,
   "metadata": {},
   "outputs": [],
   "source": [
    "import pandas as pd\n",
    "import os \n",
    "import numpy as np\n",
    "import matplotlib.pyplot as plt  \n",
    "import matplotlib as mpl\n",
    "from sklearn.model_selection import train_test_split\n",
    "%matplotlib inline \n",
    "import scipy.stats as ss \n",
    "import matplotlib.style as ms\n",
    "import seaborn as sns\n",
    "from sklearn import ensemble\n",
    "#sns.set('whitegrid')\n",
    "plt.rc('font',family='Arial')\n",
    "features = ['Barren', 'Cultivated and Managed Vegetation',\n",
    "'Deciduous Broadleaf Trees', 'Evergreen Broadleaf Trees',\n",
    "'Evergreen Deciduous Needleleaf Trees', 'Herbaceous Vegetation',\n",
    "'Mixed-Other Trees', 'Regularly Flooded Vegetation', 'Shrubs',\n",
    "'Snow-Ice', 'distance_light', 'distance_water', 'Temperature',\n",
    "'Surface_pressure', 'U_Wind', 'V_wind', 'Precipitation', 'NDVI', 'Pop']\n"
   ]
  },
  {
   "cell_type": "code",
   "execution_count": 2,
   "metadata": {},
   "outputs": [],
   "source": [
    "f = 'distance_light'\n",
    "def plot_pdp(path,file,unit,outpath = None):\n",
    "    #os.chdir(r'F:\\8.18数据整理\\variable select\\Open water')\n",
    "    f = file\n",
    "    histfile = path+'/'+\"hist_%s.csv\"%f\n",
    "    pdpfile = path+'/'+\"pdp_%s.csv\"%f\n",
    "    hist = pd.read_csv(histfile)\n",
    "    pdp = pd.read_csv(pdpfile)\n",
    "    if (f=='distance_light')|(f=='distance_water'):\n",
    "        hist[f] = hist[f].apply(lambda x:x/1000)\n",
    "        pdp[f] = pdp[f].apply(lambda x:x/1000)\n",
    "    fig,ax2 = plt.subplots(figsize = (8,6))\n",
    "    #ax1.spines['left'].set_color('royalblue')\n",
    "\n",
    "    ax2.spines['left'].set_color('b')\n",
    "    ax2.spines['right'].set_color('orangered')\n",
    "    \n",
    "    sns.lineplot(ax=ax2,data=pdp,x=pdp[f],y=pdp['partial_dependence'],color = 'lightsalmon',lw = 3)\n",
    "    ax2.tick_params(axis='y',labelsize = 20,color='orangered',labelcolor = 'orangered')\n",
    "    ax2.tick_params(axis='x',labelsize = 20)\n",
    "    ax2.set_ylim([0.4,0.6])\n",
    "    ax2.set_yticks([0.4,0.45,0.5,0.55,0.6])\n",
    "    if f=='distance_water':\n",
    "        ax2.set_ylim([0,1])\n",
    "    #ax2.yaxis.set_major_locator(plt.MultipleLocator(0.1))\n",
    "\n",
    "    ax2.set_ylabel(None) \n",
    "    ax2.axhline(y=0.5,ls=':',lw=3,c='black')\n",
    "    #\n",
    "    \n",
    "    if unit=='zero':\n",
    "        ax2.set_xlabel(xlabel=f,fontdict={'size':24})   \n",
    "    else:\n",
    "        ax2.set_xlabel(xlabel=f+' (%s)'%unit,fontdict={'size':24})   \n",
    "    if f=='distance_light':\n",
    "        ax2.set_xlabel(xlabel='Distance to light'+' (%s)'%unit,fontdict={'size':24})   \n",
    "    # prevalence \n",
    "    ax1 = ax2.twinx()\n",
    "    ax1.plot(hist[f],hist['hist'],ls='--',lw = '3',color = 'b',alpha = 0.7)\n",
    "    #sns.lineplot(ax=ax1,data=hist,x=hist[f],y=hist['hist'],lw = 3,ls ='--',color = 'royalblue',alpha = 0.6)\n",
    "    #ax1.fill_between(hist[f],hist['hist'],alpha = 0.4,lw=0,color = 'royalblue')\n",
    "    ax1.tick_params(axis='y',labelsize = 18,color='b',labelcolor = 'b')\n",
    "    ax1.set_ylim([0,0.5])\n",
    "    ax1.margins(0.02)          \n",
    "    #ax1.set_ylabel(ylabel='preditor frequency',fontdict={'size':24,'color':'b'}) \n",
    "\n",
    "    plt.margins(0.02)\n",
    "    #plt.title(label='Partial Dependence Plot of %s'%f,fontdict = {'size':16})\n",
    "    if path=='west':\n",
    "        path = \"West\"\n",
    "    else:\n",
    "        path = \"East\"\n",
    "    #plt.title(label='%sern China'%path,fontdict = {'size':28})\n",
    "    plt.savefig(os.path.join(outpath,\"%s.png\"%f),dpi=180,bbox_inches = 'tight')\n"
   ]
  },
  {
   "cell_type": "code",
   "execution_count": null,
   "metadata": {
    "collapsed": true,
    "jupyter": {
     "outputs_hidden": true
    }
   },
   "outputs": [],
   "source": [
    "features = [['distance_light','Km']]\n",
    "for f,u in features:\n",
    "    inpath = r'../../result/figure_data/season_pdp/east/'\n",
    "    outpath = r'../../result/figure/season_pdp/east/'\n",
    "    plot_pdp(os.path.join(inpath,r'spring'),file = f,unit = u,outpath=os.path.join(outpath+'spring/'))\n",
    "    plot_pdp(os.path.join(inpath,r'breeding'),file = f,unit = u,outpath=os.path.join(outpath+'breeding/'))\n",
    "    plot_pdp(os.path.join(inpath,r'fall'),file = f,unit = u,outpath=os.path.join(outpath+'fall/'))\n",
    "    plot_pdp(os.path.join(inpath,r'wintering'),file = f,unit = u,outpath=os.path.join(outpath+'wintering/'))\n",
    "    #break"
   ]
  },
  {
   "cell_type": "code",
   "execution_count": null,
   "metadata": {},
   "outputs": [],
   "source": [
    "features = [['distance_light','Km']]\n",
    "for f,u in features:\n",
    "    inpath = r'../../result/figure_data/season_pdp/west/'\n",
    "    outpath = r'../../result/figure/season_pdp/west/'\n",
    "    plot_pdp(os.path.join(inpath,r'spring'),file = f,unit = u,outpath=os.path.join(outpath+'spring/'))\n",
    "    plot_pdp(os.path.join(inpath,r'breeding'),file = f,unit = u,outpath=os.path.join(outpath+'breeding/'))\n",
    "    plot_pdp(os.path.join(inpath,r'fall'),file = f,unit = u,outpath=os.path.join(outpath+'fall/'))\n",
    "    plot_pdp(os.path.join(inpath,r'wintering'),file = f,unit = u,outpath=os.path.join(outpath+'wintering/'))\n",
    "    #break"
   ]
  }
 ],
 "metadata": {
  "file_extension": ".py",
  "kernelspec": {
   "display_name": "Python 3",
   "language": "python",
   "name": "python3"
  },
  "language_info": {
   "codemirror_mode": {
    "name": "ipython",
    "version": 3
   },
   "file_extension": ".py",
   "mimetype": "text/x-python",
   "name": "python",
   "nbconvert_exporter": "python",
   "pygments_lexer": "ipython3",
   "version": "3.6.12"
  },
  "mimetype": "text/x-python",
  "name": "python",
  "npconvert_exporter": "python",
  "pygments_lexer": "ipython3",
  "version": 3
 },
 "nbformat": 4,
 "nbformat_minor": 4
}
