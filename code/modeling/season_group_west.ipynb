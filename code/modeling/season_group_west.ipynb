{
 "cells": [
  {
   "cell_type": "markdown",
   "metadata": {},
   "source": [
    "winter: 12,1,2  \n",
    "spring_migration:3,4,5  \n",
    "breeding: 6,7,8  \n",
    "fall_migration:9,10,11  "
   ]
  },
  {
   "cell_type": "code",
   "execution_count": 1,
   "metadata": {},
   "outputs": [],
   "source": [
    "import xgboost as xgb\n",
    "import pandas as pd\n",
    "import os \n",
    "import numpy as np\n",
    "import matplotlib.pyplot as plt  \n",
    "from sklearn.model_selection import train_test_split\n",
    "import seaborn as sns\n",
    "import shap\n",
    "from xgboost.sklearn import XGBClassifier\n",
    "from pdpbox import pdp\n",
    "from pdpbox import info_plots\n",
    "\n",
    "pd.options.mode.chained_assignment = None"
   ]
  },
  {
   "cell_type": "code",
   "execution_count": 2,
   "metadata": {},
   "outputs": [],
   "source": [
    "def par_dep(xs, frame, model, resolution=20, bins=[None]):   \n",
    "    pd.options.mode.chained_assignment = None\n",
    "    par_dep_frame = pd.DataFrame(columns=[xs, 'partial_dependence'])\n",
    "    col_cache = frame.loc[:, xs].copy(deep=True)\n",
    "    if bins[0] == None:\n",
    "        min_ = frame[xs].min()\n",
    "        max_ = frame[xs].max()\n",
    "        by = (max_ - min_)/resolution\n",
    "        print(min_,max_,by)\n",
    "        bins = np.arange(min_, max_, by)\n",
    "    for j in bins:\n",
    "        frame.loc[:, xs] = j\n",
    "        #dframe = xgb.DMatrix(frame)\n",
    "        par_dep_i = pd.DataFrame(model.predict(frame))\n",
    "        par_dep_j = par_dep_i.mean()[0]\n",
    "        par_dep_frame = par_dep_frame.append({xs:j,\n",
    "                                              'partial_dependence': par_dep_j}, \n",
    "                                              ignore_index=True)\n",
    "    frame.loc[:, xs] = col_cache\n",
    "    return par_dep_frame\n",
    "\n",
    "def plot_par(variable,par_dataset,xgb_model,save_path =None,plot_bins=[None]):\n",
    "    X = par_dataset[variable]\n",
    "    par_dep_night = par_dep(variable,par_dataset, xgb_model,bins=plot_bins)\n",
    "    \n",
    "    fig,ax1 = plt.subplots(figsize = (8,6))\n",
    "    ax2 = ax1.twinx()\n",
    "    ax1.hist(X,color='yellowgreen',bins=50,label=variable)\n",
    "    ax2.plot(par_dep_night[variable],par_dep_night['partial_dependence'],label='partial_dependence',c = 'red',lw=2)\n",
    "    ax2.axhline(y=0.500,c=\"blue\",ls='--',lw=2)\n",
    "    fig.legend(fontsize = 12)\n",
    "    plt.margins(x=0)\n",
    "    if save_path==None:\n",
    "        save_path=r'D:\\china avian distribution\\20200609\\temptrash'\n",
    "        #fig.savefig(save_path+'%s.png'%variable)\n",
    "        "
   ]
  },
  {
   "cell_type": "code",
   "execution_count": 3,
   "metadata": {},
   "outputs": [],
   "source": [
    "def hist(xs, frame,bins):   \n",
    "    pd.options.mode.chained_assignment = None\n",
    "    hist_list = []\n",
    "    for i in range(len(bins)-1):\n",
    "        temp = len(frame[xs][(frame[xs]>=bins[i]) & (frame[xs]<bins[i+1])])\n",
    "        hist_list.append([bins[i],temp/len(frame[xs])])\n",
    "        \n",
    "    temp = len(frame[xs][(frame[xs]>=bins[-1])])\n",
    "    hist_list.append([bins[-1],temp/len(frame[xs])])\n",
    "    hist_df = pd.DataFrame(hist_list,columns=[xs,'hist'])\n",
    "    return hist_df"
   ]
  },
  {
   "cell_type": "code",
   "execution_count": 4,
   "metadata": {},
   "outputs": [],
   "source": [
    "def fit_model(data,season):\n",
    "    '''\n",
    "    input:data: bird dataframe\n",
    "          season:list of the month\n",
    "    output: X_total(for pdp calculate),model,\n",
    "    '''\n",
    "    season_df = data[data['month'].isin(season)]\n",
    "    X_total=season_df.iloc[:,1:].drop(columns=['month'])\n",
    "    y_total=season_df.iloc[:,0]\n",
    "    X_train, X_test, y_train, y_test = train_test_split(\n",
    "                                        X_total, y_total, test_size=0.33)\n",
    "    dtrain = xgb.DMatrix(data=X_train,label=y_train)\n",
    "    dtest = xgb.DMatrix(data=X_test,label=y_test)\n",
    "    #watchlist = [(dtrain, 'train'),(dtest, 'eval')]\n",
    "    base_y = y_train.mean()\n",
    "    xgb_model = XGBClassifier(\n",
    "              max_depth=12,\n",
    "              learning_rate=0.01,\n",
    "              n_estimators=200,\n",
    "              verbosity=1,\n",
    "              objective='binary:logistic',\n",
    "              booster='gbtree',\n",
    "              gamma=0.4,\n",
    "              min_child_weight=6,\n",
    "              subsample=0.8,\n",
    "              reg_lambda=1,\n",
    "              base_score=base_y,\n",
    "              eval_metric='auc',\n",
    "              )\n",
    "    xgb_model.fit(X_train, y_train,eval_set=[(X_test, y_test)],early_stopping_rounds=50,verbose=False) \n",
    "    return X_total,xgb_model"
   ]
  },
  {
   "cell_type": "code",
   "execution_count": 5,
   "metadata": {},
   "outputs": [],
   "source": [
    "## 输出所有的hist和pdp，输入X_total和model\n",
    "def out_pdp_hist(par_dataset,xgb_model,season,save_path =None,variables=None):\n",
    "    if variables==None:\n",
    "        variables=['distance_light']\n",
    "    X = par_dataset[variables]\n",
    "    for v in variables:\n",
    "        #print(v)\n",
    "        plot_bin = V_bins[v]\n",
    "        par_dep_v = par_dep(v,par_dataset, xgb_model,bins=plot_bin)\n",
    "        hist_v = hist(v,par_dataset,bins=plot_bin)\n",
    "        \n",
    "        par_dep_v.to_csv(save_path+'%s/'%season+'%s_%s.csv'%('pdp',v),index=False)\n",
    "        hist_v.to_csv(save_path+'%s/'%season+'%s_%s.csv'%('hist',v),index=False) \n",
    "        print(save_path+'%s/'%season+'%s_%s.csv'%('pdp',v))"
   ]
  },
  {
   "cell_type": "markdown",
   "metadata": {},
   "source": [
    "# season"
   ]
  },
  {
   "cell_type": "code",
   "execution_count": 6,
   "metadata": {},
   "outputs": [],
   "source": [
    "path = r'../../data/west'\n",
    "os.chdir(path)\n",
    "data = pd.read_csv('west.csv',engine='c')\n",
    "data['month'] = data['date'].apply(lambda x:pd.Timestamp(x).month)\n",
    "data = data.drop(columns=['date','lon','lat','Open Water','Urban-Built-up','elevation','night light'])"
   ]
  },
  {
   "cell_type": "code",
   "execution_count": 7,
   "metadata": {},
   "outputs": [],
   "source": [
    "V_bins ={}\n",
    "resolution = 20\n",
    "for i in data.iloc[:,1:].drop(columns=['month']).columns:\n",
    "    max_ = data[i].max()\n",
    "    min_ = data[i].min()\n",
    "    by = (max_ - min_)/20\n",
    "    V_bins[i] = np.append(np.arange(min_, max_, by),max_)"
   ]
  },
  {
   "cell_type": "code",
   "execution_count": 8,
   "metadata": {},
   "outputs": [],
   "source": [
    "wintering=[12,1,2]\n",
    "spring_migration=[3,4,5]\n",
    "breeding=[6,7,8]\n",
    "fall_migration=[9,10,11]\n",
    "seasons = [spring_migration,breeding,fall_migration,wintering]"
   ]
  },
  {
   "cell_type": "markdown",
   "metadata": {},
   "source": [
    "spring_migration,breeding,fall_migration,wintering"
   ]
  },
  {
   "cell_type": "code",
   "execution_count": null,
   "metadata": {},
   "outputs": [],
   "source": [
    "X_total1,xgb_model1 = fit_model(data,spring_migration)\n",
    "xgb.plot_importance(xgb_model1,importance_type='gain')\n",
    "save = r'../../result/figure_data/season_pdp/west/'\n",
    "out_pdp_hist(par_dataset=X_total1,xgb_model=xgb_model1,season='spring',save_path =save,variables=None)"
   ]
  },
  {
   "cell_type": "code",
   "execution_count": null,
   "metadata": {},
   "outputs": [],
   "source": [
    "X_total2,xgb_model2 = fit_model(data,breeding)\n",
    "xgb.plot_importance(xgb_model2,importance_type='gain')\n",
    "save = r'../../result/figure_data/season_pdp/west/'\n",
    "out_pdp_hist(par_dataset=X_total2,xgb_model=xgb_model2,season='breeding',save_path =save,variables=None)"
   ]
  },
  {
   "cell_type": "code",
   "execution_count": null,
   "metadata": {},
   "outputs": [],
   "source": [
    "X_total3,xgb_model3 = fit_model(data,fall_migration)\n",
    "xgb.plot_importance(xgb_model3,importance_type='gain')\n",
    "save = r'../../result/figure_data/season_pdp/west/'\n",
    "out_pdp_hist(par_dataset=X_total3,xgb_model=xgb_model3,season='fall',save_path =save,variables=None)"
   ]
  },
  {
   "cell_type": "code",
   "execution_count": null,
   "metadata": {},
   "outputs": [],
   "source": [
    "X_total4,xgb_model4 = fit_model(data,wintering)\n",
    "xgb.plot_importance(xgb_model4,importance_type='gain')\n",
    "save = r'../../result/figure_data/season_pdp/west/'\n",
    "out_pdp_hist(par_dataset=X_total4,xgb_model=xgb_model4,season='wintering',save_path =save,variables=None)"
   ]
  },
  {
   "cell_type": "raw",
   "metadata": {},
   "source": [
    "variable = ['distance_light','Temperature']\n",
    "plot_par(variable=variable[0],par_dataset=X_total1,xgb_model=xgb_model1,plot_bins=D_bins)\n",
    "plot_par(variable=variable[0],par_dataset=X_total2,xgb_model=xgb_model2,plot_bins=D_bins)\n",
    "plot_par(variable=variable[0],par_dataset=X_total3,xgb_model=xgb_model3,plot_bins=D_bins)\n",
    "plot_par(variable=variable[0],par_dataset=X_total4,xgb_model=xgb_model4,plot_bins=D_bins)"
   ]
  }
 ],
 "metadata": {
  "kernelspec": {
   "display_name": "Python 3",
   "language": "python",
   "name": "python3"
  },
  "language_info": {
   "codemirror_mode": {
    "name": "ipython",
    "version": 3
   },
   "file_extension": ".py",
   "mimetype": "text/x-python",
   "name": "python",
   "nbconvert_exporter": "python",
   "pygments_lexer": "ipython3",
   "version": "3.6.12"
  }
 },
 "nbformat": 4,
 "nbformat_minor": 4
}
