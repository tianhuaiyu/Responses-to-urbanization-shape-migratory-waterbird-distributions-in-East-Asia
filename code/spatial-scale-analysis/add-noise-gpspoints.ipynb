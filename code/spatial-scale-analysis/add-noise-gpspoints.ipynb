{
 "cells": [
  {
   "cell_type": "code",
   "execution_count": 1,
   "metadata": {},
   "outputs": [],
   "source": [
    "import geopandas as gp\n",
    "from shapely.geometry import Point\n",
    "import pandas as pd\n",
    "import matplotlib.pyplot as plt\n",
    "import numpy as np\n",
    "import random\n",
    "from joblib import Parallel,delayed\n",
    "import os"
   ]
  },
  {
   "cell_type": "code",
   "execution_count": 3,
   "metadata": {},
   "outputs": [],
   "source": [
    "def generate_noise(p):\n",
    "    noise_point = None\n",
    "    b_bounds = p.geometry.bounds\n",
    "    while noise_point == None:\n",
    "        random_point = Point(random.uniform(b_bounds[0], b_bounds[2]), random.uniform(b_bounds[1], b_bounds[3]))\n",
    "        if ((p.geometry.contains(random_point))&(land_polygon.contains(random_point))).values:\n",
    "            noise_point = random_point\n",
    "    return noise_point"
   ]
  },
  {
   "cell_type": "code",
   "execution_count": 3,
   "metadata": {},
   "outputs": [],
   "source": [
    "def stream(df):\n",
    "    #print(df)\n",
    "    point_shp = df.in_path\n",
    "    geo_df = gp.read_file(point_shp,encoding = 'gb18030')#.head(10)\n",
    "    geo_df1 = geo_df.copy()\n",
    "    geo_df1['geometry'] = geo_df.geometry.buffer(np.array([d]*len(geo_df)))\n",
    "    geo_df1 = geo_df1.to_crs(epsg=4326)\n",
    "    #geo_df.buffer_p = geo_df.buffer_p.to_crs(epsg=4326)\n",
    "    geo_df1['noise_point'] = geo_df1.apply(generate_noise,axis=1)\n",
    "    \n",
    "    out_df = geo_df1[['date', 'lon', 'lat','type','noise_point']]\n",
    "    out_df['lon'] = out_df.noise_point.apply(lambda x:x.x)\n",
    "    out_df['lat'] = out_df.noise_point.apply(lambda x:x.y)\n",
    "    #out_df=out_df.drop(columns=['noise_point'])\n",
    "    \n",
    "    out_df.to_excel(df.out_path,index=False)\n",
    "    return out_df"
   ]
  },
  {
   "cell_type": "code",
   "execution_count": 4,
   "metadata": {},
   "outputs": [],
   "source": [
    "def tmp_func(df):\n",
    "    index_value = df.apply(stream,axis=1)\n",
    "    return index_value\n",
    "\n",
    "def apply_parallel(df_grouped,func):\n",
    "    results = Parallel(n_jobs=10)(delayed(func)(group) for name,group in df_grouped)\n",
    "    return pd.concat(results)"
   ]
  },
  {
   "cell_type": "code",
   "execution_count": 5,
   "metadata": {},
   "outputs": [],
   "source": [
    "land_path = r'shpfile/mask_land.shp'\n",
    "land_polygon = gp.read_file(land_path).geometry"
   ]
  },
  {
   "cell_type": "code",
   "execution_count": null,
   "metadata": {},
   "outputs": [],
   "source": [
    "## bird gps points was added different intensity noise in spatial, after rebuild the dataset(point-environment_variable) and train,generate the figure2b"
   ]
  },
  {
   "cell_type": "code",
   "execution_count": 6,
   "metadata": {},
   "outputs": [],
   "source": [
    "for d in [5000,10000,20000,50000,100000]:\n",
    "    in_list = []\n",
    "    out_list = []\n",
    "    d_list = []\n",
    "    for i in range(0,50):\n",
    "        temp_in = r'shpfile/west.shp'\n",
    "        temp_out = r'noise-added-point/noise/noise_%skm/%s/gpsdata_withnoise/translated/west.xlsx'%(int(d/1000),i)\n",
    "        #break\n",
    "        d_list.append(d)\n",
    "        in_list.append(temp_in)\n",
    "        out_list.append(temp_out)\n",
    "        #stream(inpath=temp_in,outpath=temp_out)\n",
    "    path_df = pd.DataFrame([in_list,out_list,d_list]).T\n",
    "    path_df.columns = ['in_path','out_path','distance']\n",
    "    df_grouped = path_df.groupby(path_df.index)\n",
    "    #print(1)\n",
    "    out = apply_parallel(df_grouped,tmp_func)\n",
    "    #break"
   ]
  },
  {
   "cell_type": "code",
   "execution_count": 7,
   "metadata": {},
   "outputs": [],
   "source": [
    "for d in [5000,10000,20000,50000,100000]:\n",
    "    in_list = []\n",
    "    out_list = []\n",
    "    d_list = []\n",
    "    for i in range(0,50):\n",
    "        temp_in = r'shpfile/east.shp'\n",
    "        temp_out = r'noise-added-point/noise/noise_%skm/%s/gpsdata_withnoise/translated/east.xlsx'%(int(d/1000),i)\n",
    "        #break\n",
    "        d_list.append(d)\n",
    "        in_list.append(temp_in)\n",
    "        out_list.append(temp_out)\n",
    "        #stream(inpath=temp_in,outpath=temp_out)\n",
    "    path_df = pd.DataFrame([in_list,out_list,d_list]).T\n",
    "    path_df.columns = ['in_path','out_path','distance']\n",
    "    df_grouped = path_df.groupby(path_df.index)\n",
    "    #print(1)\n",
    "    out = apply_parallel(df_grouped,tmp_func)\n",
    "    #break"
   ]
  }
 ],
 "metadata": {
  "kernelspec": {
   "display_name": "geo",
   "language": "python",
   "name": "geo"
  },
  "language_info": {
   "codemirror_mode": {
    "name": "ipython",
    "version": 3
   },
   "file_extension": ".py",
   "mimetype": "text/x-python",
   "name": "python",
   "nbconvert_exporter": "python",
   "pygments_lexer": "ipython3",
   "version": "3.6.12"
  }
 },
 "nbformat": 4,
 "nbformat_minor": 4
}
